{
 "cells": [
  {
   "cell_type": "code",
   "execution_count": null,
   "id": "c9bb1abf-6905-4f5c-80c7-c5fb39111a22",
   "metadata": {},
   "outputs": [],
   "source": [
    "# import pandas as pd\n",
    "# import json"
   ]
  },
  {
   "cell_type": "code",
   "execution_count": null,
   "id": "88b8e079-1865-4087-ac37-137cdbf901ad",
   "metadata": {},
   "outputs": [],
   "source": [
    "# !ls -l\n",
    "# ! cd join_easy_health/ && ls -l\n"
   ]
  },
  {
   "cell_type": "code",
   "execution_count": null,
   "id": "f4fa4d29-0e24-4b93-b038-8c67e17d6288",
   "metadata": {},
   "outputs": [],
   "source": [
    "# with open('join_easy_health/2023-05-19_01.58.58-usa_zip_codes_v7.geo.json') as file:\n",
    "#     data = json.load(file)\n",
    "\n",
    "\n",
    "# # df = pd.DataFrame(data)\n",
    "\n",
    "# # If your data has nested structures, you might need to use json_normalize:\n",
    "# df = pd.json_normalize(data)\n",
    "\n",
    "# print(df.tail(100))"
   ]
  },
  {
   "cell_type": "code",
   "execution_count": 3,
   "id": "5efb31ba-d490-45a6-bbac-783ed4337e8a",
   "metadata": {},
   "outputs": [
    {
     "name": "stdout",
     "output_type": "stream",
     "text": [
      "         zip     type                                        coordinates\n",
      "0      00601  Polygon  [[[-66.817631, 18.230404], [-66.836006, 18.209...\n",
      "1      00602  Polygon  [[[-67.160618, 18.415609], [-67.24024, 18.3787...\n",
      "2      00603  Polygon  [[[-67.132036, 18.389712], [-67.056497, 18.461...\n",
      "3      00606  Polygon  [[[-67.019749, 18.195089], [-67.051393, 18.173...\n",
      "4      00610  Polygon  [[[-67.183076, 18.312805], [-67.22697, 18.2939...\n",
      "...      ...      ...                                                ...\n",
      "33078  99923  Polygon  [[[-130.075209, 56.01068], [-130.060918, 55.94...\n",
      "33079  99925  Polygon  [[[-133.120237, 55.610448], [-133.128404, 55.6...\n",
      "33080  99926  Polygon  [[[-131.667648, 55.141157], [-131.650294, 55.0...\n",
      "33081  99927  Polygon  [[[-133.064094, 56.220213], [-133.195776, 56.3...\n",
      "33082  99929  Polygon  [[[-132.517969, 56.585914], [-132.375058, 56.5...\n",
      "\n",
      "[33083 rows x 3 columns]\n"
     ]
    }
   ],
   "source": [
    "# Flattenig data from json \n",
    "import json\n",
    "import pandas as pd\n",
    "\n",
    "with open('join_easy_health/2023-05-19_01.58.58-usa_zip_codes_v7.geo.json') as file:\n",
    "    data = json.load(file)\n",
    "\n",
    "rows = []\n",
    "for feature in data[\"features\"]:\n",
    "    row = {\n",
    "        \"zip\": feature[\"properties\"][\"zip\"],\n",
    "        \"type\": feature[\"geometry\"][\"type\"],\n",
    "        \"coordinates\": feature[\"geometry\"][\"coordinates\"]\n",
    "    }\n",
    "    rows.append(row)\n",
    "\n",
    "df = pd.DataFrame(rows)\n",
    "print(df)\n"
   ]
  },
  {
   "cell_type": "code",
   "execution_count": 4,
   "id": "2c7d8745-21c7-435b-8107-cdd90c5b65ae",
   "metadata": {},
   "outputs": [
    {
     "data": {
      "text/plain": [
       "-1"
      ]
     },
     "execution_count": 4,
     "metadata": {},
     "output_type": "execute_result"
    }
   ],
   "source": [
    "from sqlalchemy import Column, Integer, Sequence, String, create_engine, text\n",
    "from sqlalchemy.ext.declarative import declarative_base\n",
    "from sqlalchemy.orm.session import Session\n",
    "\n",
    "# eng = create_engine(\"duckdb:///:memory:\")\n",
    "eng = create_engine(\"duckdb:///database.duckdb\")\n",
    "\n",
    "df.to_sql('draft', eng, if_exists='replace')\n",
    "\n",
    "\n"
   ]
  },
  {
   "cell_type": "code",
   "execution_count": 7,
   "id": "95c8801f-5e6c-4be1-957a-670681eec9f0",
   "metadata": {},
   "outputs": [
    {
     "name": "stdout",
     "output_type": "stream",
     "text": [
      "(0, '00601', 'Polygon', '[[[-66.817631, 18.230404], [-66.836006, 18.209215], [-66.826819, 18.171546], [-66.797216, 18.133093], [-66.768633, 18.134662], [-66.698199, 18.130739], [-66.659408, 18.156636], [-66.692074, 18.215493], [-66.817631, 18.230404]]]')\n",
      "(1, '00602', 'Polygon', '[[[-67.160618, 18.415609], [-67.24024, 18.378725], [-67.183076, 18.312805], [-67.129994, 18.320652], [-67.132036, 18.389712], [-67.160618, 18.415609]]]')\n",
      "(2, '00603', 'Polygon', '[[[-67.132036, 18.389712], [-67.056497, 18.461126], [-67.083038, 18.490947], [-67.112641, 18.51292], [-67.168785, 18.478391], [-67.160618, 18.415609], [-67.132036, 18.389712]]]')\n",
      "(3, '00606', 'Polygon', '[[[-67.019749, 18.195089], [-67.051393, 18.173901], [-66.977896, 18.14408], [-66.923794, 18.14251], [-66.837027, 18.170762], [-66.843151, 18.171546], [-66.898274, 18.188027], [-67.019749, 18.195089]]]')\n",
      "(4, '00610', 'Polygon', '[[[-67.183076, 18.312805], [-67.22697, 18.29397], [-67.192263, 18.266503], [-67.161639, 18.272781], [-67.135098, 18.261795], [-67.082017, 18.254732], [-67.038123, 18.290046], [-67.052414, 18.306526], [-67.129994, 18.320652], [-67.183076, 18.312805]]]')\n",
      "(5, '00612', 'MultiPolygon', '[[[[-66.682887, 18.447], [-66.626743, 18.436798], [-66.625722, 18.437583], [-66.646138, 18.459556], [-66.682887, 18.447]]], [[[-66.585911, 18.488592] ... (128 characters truncated) ... , [-66.722698, 18.331639], [-66.662471, 18.319867], [-66.652263, 18.3285], [-66.673699, 18.385003], [-66.703303, 18.42895], [-66.76455, 18.488592]]]]')\n",
      "(6, '00616', 'Polygon', '[[[-66.682887, 18.447], [-66.703303, 18.42895], [-66.673699, 18.385003], [-66.626743, 18.436798], [-66.682887, 18.447]]]')\n",
      "(7, '00617', 'Polygon', '[[[-66.581828, 18.472897], [-66.580807, 18.46348], [-66.587953, 18.437583], [-66.587953, 18.389712], [-66.543038, 18.405407], [-66.53283, 18.485453], [-66.585911, 18.488592], [-66.581828, 18.472897]]]')\n",
      "(8, '00622', 'Polygon', '[[[-67.186138, 18.030288], [-67.195325, 17.965153], [-67.109578, 17.945533], [-67.113662, 18.028719], [-67.186138, 18.030288]]]')\n",
      "(9, '00623', 'Polygon', '[[[-67.113662, 18.028719], [-67.108558, 18.056186], [-67.104475, 18.094639], [-67.119786, 18.111904], [-67.159597, 18.153497], [-67.181034, 18.168407], [-67.186138, 18.030288], [-67.113662, 18.028719]]]')\n"
     ]
    }
   ],
   "source": [
    "with eng.connect() as connection:\n",
    "    result = connection.execute(text(\"SELECT * FROM draft\"))  # Using text() for SQL statement\n",
    "\n",
    "    for i, row in enumerate(result):\n",
    "        if i >= 10:\n",
    "            break\n",
    "        \n",
    "        print(row)\n",
    "\n",
    "    connection.close()\n"
   ]
  },
  {
   "cell_type": "code",
   "execution_count": 6,
   "id": "e58b26fb",
   "metadata": {},
   "outputs": [
    {
     "name": "stdout",
     "output_type": "stream",
     "text": [
      "   index    zip          type   \n",
      "0      0  00601       Polygon  \\\n",
      "1      1  00602       Polygon   \n",
      "2      2  00603       Polygon   \n",
      "3      3  00606       Polygon   \n",
      "4      4  00610       Polygon   \n",
      "5      5  00612  MultiPolygon   \n",
      "6      6  00616       Polygon   \n",
      "7      7  00617       Polygon   \n",
      "8      8  00622       Polygon   \n",
      "9      9  00623       Polygon   \n",
      "\n",
      "                                         coordinates  \n",
      "0  [[[-66.817631, 18.230404], [-66.836006, 18.209...  \n",
      "1  [[[-67.160618, 18.415609], [-67.24024, 18.3787...  \n",
      "2  [[[-67.132036, 18.389712], [-67.056497, 18.461...  \n",
      "3  [[[-67.019749, 18.195089], [-67.051393, 18.173...  \n",
      "4  [[[-67.183076, 18.312805], [-67.22697, 18.2939...  \n",
      "5  [[[[-66.682887, 18.447], [-66.626743, 18.43679...  \n",
      "6  [[[-66.682887, 18.447], [-66.703303, 18.42895]...  \n",
      "7  [[[-66.581828, 18.472897], [-66.580807, 18.463...  \n",
      "8  [[[-67.186138, 18.030288], [-67.195325, 17.965...  \n",
      "9  [[[-67.113662, 18.028719], [-67.108558, 18.056...  \n"
     ]
    },
    {
     "name": "stderr",
     "output_type": "stream",
     "text": [
      "/home/dvieira/.venvs/vnv-nu/lib/python3.9/site-packages/duckdb_engine/__init__.py:160: DuckDBEngineWarning: duckdb-engine doesn't yet support reflection on indices\n",
      "  warnings.warn(\n"
     ]
    }
   ],
   "source": [
    "df_2 = pd.read_sql('draft', eng)\n",
    "print(df_2.head(10))\n",
    "\n"
   ]
  },
  {
   "cell_type": "code",
   "execution_count": null,
   "id": "7831de7a-70f7-4767-b6b4-d54f294f405b",
   "metadata": {},
   "outputs": [],
   "source": [
    "# with eng.connect() as connection: \n",
    "#     result = connection.execute(text(\"SELECT * FROM draft\"))\n",
    "#     rows = result.fetchall()\n",
    "\n",
    "# for row in rows:\n",
    "#     print(row)\n"
   ]
  },
  {
   "cell_type": "code",
   "execution_count": null,
   "id": "656111f0",
   "metadata": {},
   "outputs": [],
   "source": [
    "# connection.close()"
   ]
  },
  {
   "cell_type": "code",
   "execution_count": 20,
   "id": "ccaaeabd",
   "metadata": {},
   "outputs": [
    {
     "name": "stdout",
     "output_type": "stream",
     "text": [
      "zip            object\n",
      "type           object\n",
      "coordinates    object\n",
      "dtype: object\n"
     ]
    }
   ],
   "source": [
    "print(df.dtypes)"
   ]
  },
  {
   "cell_type": "code",
   "execution_count": 18,
   "id": "115ef083",
   "metadata": {},
   "outputs": [
    {
     "ename": "InvalidInputException",
     "evalue": "Invalid Input Error: Failed to cast value: Unimplemented type for cast (DOUBLE -> DOUBLE[])",
     "output_type": "error",
     "traceback": [
      "\u001b[0;31m---------------------------------------------------------------------------\u001b[0m",
      "\u001b[0;31mInvalidInputException\u001b[0m                     Traceback (most recent call last)",
      "File \u001b[0;32m~/.venvs/vnv-nu/lib/python3.9/site-packages/IPython/core/formatters.py:708\u001b[0m, in \u001b[0;36mPlainTextFormatter.__call__\u001b[0;34m(self, obj)\u001b[0m\n\u001b[1;32m    701\u001b[0m stream \u001b[39m=\u001b[39m StringIO()\n\u001b[1;32m    702\u001b[0m printer \u001b[39m=\u001b[39m pretty\u001b[39m.\u001b[39mRepresentationPrinter(stream, \u001b[39mself\u001b[39m\u001b[39m.\u001b[39mverbose,\n\u001b[1;32m    703\u001b[0m     \u001b[39mself\u001b[39m\u001b[39m.\u001b[39mmax_width, \u001b[39mself\u001b[39m\u001b[39m.\u001b[39mnewline,\n\u001b[1;32m    704\u001b[0m     max_seq_length\u001b[39m=\u001b[39m\u001b[39mself\u001b[39m\u001b[39m.\u001b[39mmax_seq_length,\n\u001b[1;32m    705\u001b[0m     singleton_pprinters\u001b[39m=\u001b[39m\u001b[39mself\u001b[39m\u001b[39m.\u001b[39msingleton_printers,\n\u001b[1;32m    706\u001b[0m     type_pprinters\u001b[39m=\u001b[39m\u001b[39mself\u001b[39m\u001b[39m.\u001b[39mtype_printers,\n\u001b[1;32m    707\u001b[0m     deferred_pprinters\u001b[39m=\u001b[39m\u001b[39mself\u001b[39m\u001b[39m.\u001b[39mdeferred_printers)\n\u001b[0;32m--> 708\u001b[0m printer\u001b[39m.\u001b[39;49mpretty(obj)\n\u001b[1;32m    709\u001b[0m printer\u001b[39m.\u001b[39mflush()\n\u001b[1;32m    710\u001b[0m \u001b[39mreturn\u001b[39;00m stream\u001b[39m.\u001b[39mgetvalue()\n",
      "File \u001b[0;32m~/.venvs/vnv-nu/lib/python3.9/site-packages/IPython/lib/pretty.py:410\u001b[0m, in \u001b[0;36mRepresentationPrinter.pretty\u001b[0;34m(self, obj)\u001b[0m\n\u001b[1;32m    407\u001b[0m                         \u001b[39mreturn\u001b[39;00m meth(obj, \u001b[39mself\u001b[39m, cycle)\n\u001b[1;32m    408\u001b[0m                 \u001b[39mif\u001b[39;00m \u001b[39mcls\u001b[39m \u001b[39mis\u001b[39;00m \u001b[39mnot\u001b[39;00m \u001b[39mobject\u001b[39m \\\n\u001b[1;32m    409\u001b[0m                         \u001b[39mand\u001b[39;00m \u001b[39mcallable\u001b[39m(\u001b[39mcls\u001b[39m\u001b[39m.\u001b[39m\u001b[39m__dict__\u001b[39m\u001b[39m.\u001b[39mget(\u001b[39m'\u001b[39m\u001b[39m__repr__\u001b[39m\u001b[39m'\u001b[39m)):\n\u001b[0;32m--> 410\u001b[0m                     \u001b[39mreturn\u001b[39;00m _repr_pprint(obj, \u001b[39mself\u001b[39;49m, cycle)\n\u001b[1;32m    412\u001b[0m     \u001b[39mreturn\u001b[39;00m _default_pprint(obj, \u001b[39mself\u001b[39m, cycle)\n\u001b[1;32m    413\u001b[0m \u001b[39mfinally\u001b[39;00m:\n",
      "File \u001b[0;32m~/.venvs/vnv-nu/lib/python3.9/site-packages/IPython/lib/pretty.py:778\u001b[0m, in \u001b[0;36m_repr_pprint\u001b[0;34m(obj, p, cycle)\u001b[0m\n\u001b[1;32m    776\u001b[0m \u001b[39m\u001b[39m\u001b[39m\"\"\"A pprint that just redirects to the normal repr function.\"\"\"\u001b[39;00m\n\u001b[1;32m    777\u001b[0m \u001b[39m# Find newlines and replace them with p.break_()\u001b[39;00m\n\u001b[0;32m--> 778\u001b[0m output \u001b[39m=\u001b[39m \u001b[39mrepr\u001b[39;49m(obj)\n\u001b[1;32m    779\u001b[0m lines \u001b[39m=\u001b[39m output\u001b[39m.\u001b[39msplitlines()\n\u001b[1;32m    780\u001b[0m \u001b[39mwith\u001b[39;00m p\u001b[39m.\u001b[39mgroup():\n",
      "\u001b[0;31mInvalidInputException\u001b[0m: Invalid Input Error: Failed to cast value: Unimplemented type for cast (DOUBLE -> DOUBLE[])"
     ]
    }
   ],
   "source": [
    "import duckdb\n",
    "\n",
    "duckdb.default_connection.execute(\"SET GLOBAL pandas_analyze_sample=100000\")\n",
    "\n",
    "con = duckdb.connect('database.duckdb')\n",
    "\n",
    "con.register('draft', df)\n",
    "\n",
    "con.query('SELECT * FROM draft')\n",
    "\n",
    "# con.fetchall()"
   ]
  }
 ],
 "metadata": {
  "kernelspec": {
   "display_name": "Python 3 (ipykernel)",
   "language": "python",
   "name": "python3"
  },
  "language_info": {
   "codemirror_mode": {
    "name": "ipython",
    "version": 3
   },
   "file_extension": ".py",
   "mimetype": "text/x-python",
   "name": "python",
   "nbconvert_exporter": "python",
   "pygments_lexer": "ipython3",
   "version": "3.9.16"
  }
 },
 "nbformat": 4,
 "nbformat_minor": 5
}
